{
 "cells": [
  {
   "cell_type": "markdown",
   "id": "2bc89187-934e-42be-89c7-983a693612e1",
   "metadata": {},
   "source": [
    "# Creating Java Maven Repo"
   ]
  },
  {
   "cell_type": "code",
   "execution_count": null,
   "id": "f7f37dea-a0d2-44f9-8a63-9cf2782ae43a",
   "metadata": {},
   "outputs": [],
   "source": [
    "%%bash\n",
    "mvn archetype:generate -DgroupId=<group-id> -DartifactId=<project name> -DarchetypeArtifactId=maven-archetype-quickstart -DinteractiveMode=false"
   ]
  },
  {
   "cell_type": "markdown",
   "id": "55257a5f-c2e5-4ac1-9439-f5adb59507a9",
   "metadata": {},
   "source": [
    "## Add MVNW\n",
    "mvnw (Maven Wrapper) is a tool that allows you to run Maven projects without having Maven installed and present on the path. It automatically downloads the correct version of Maven for the project. \n",
    "\n",
    "add mvw to the project"
   ]
  },
  {
   "cell_type": "code",
   "execution_count": null,
   "id": "181c318a-6286-4afd-92e7-12eab8f7005b",
   "metadata": {},
   "outputs": [],
   "source": [
    "%%bash\n",
    "cd <project name>\n",
    "mvn wrapper:wrapper"
   ]
  }
 ],
 "metadata": {
  "kernelspec": {
   "display_name": "Python 3",
   "language": "python",
   "name": "python3"
  },
  "language_info": {
   "codemirror_mode": {
    "name": "ipython",
    "version": 3
   },
   "file_extension": ".py",
   "mimetype": "text/x-python",
   "name": "python",
   "nbconvert_exporter": "python",
   "pygments_lexer": "ipython3",
   "version": "3.6.9"
  }
 },
 "nbformat": 4,
 "nbformat_minor": 5
}
