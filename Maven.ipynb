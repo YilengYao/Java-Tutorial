{
 "cells": [
  {
   "cell_type": "markdown",
   "id": "2bc89187-934e-42be-89c7-983a693612e1",
   "metadata": {},
   "source": [
    "# Creating Java Maven Repo"
   ]
  },
  {
   "cell_type": "code",
   "execution_count": null,
   "id": "f7f37dea-a0d2-44f9-8a63-9cf2782ae43a",
   "metadata": {},
   "outputs": [],
   "source": [
    "%%bash\n",
    "mvn archetype:generate -DgroupId=<group-id> -DartifactId=<project name> -DarchetypeArtifactId=maven-archetype-quickstart -DinteractiveMode=false"
   ]
  },
  {
   "cell_type": "markdown",
   "id": "55257a5f-c2e5-4ac1-9439-f5adb59507a9",
   "metadata": {},
   "source": [
    "## Add MVNW\n",
    "mvnw (Maven Wrapper) is a tool that allows you to run Maven projects without having Maven installed and present on the path. It automatically downloads the correct version of Maven for the project. \n",
    "\n",
    "add mvw to the project"
   ]
  },
  {
   "cell_type": "code",
   "execution_count": null,
   "id": "181c318a-6286-4afd-92e7-12eab8f7005b",
   "metadata": {},
   "outputs": [],
   "source": [
    "%%bash\n",
    "cd <project name>\n",
    "mvn wrapper:wrapper"
   ]
  },
  {
   "cell_type": "markdown",
   "id": "17c0cac0-62cc-4e2c-b504-9df9e86d384c",
   "metadata": {},
   "source": [
    "# Creating Spring Boot Project"
   ]
  },
  {
   "cell_type": "code",
   "execution_count": null,
   "id": "848ad910-a53f-41ca-a03c-abe51b88c450",
   "metadata": {},
   "outputs": [],
   "source": [
    "%%bash\n",
    "mvn wrapper:wrapper"
   ]
  },
  {
   "cell_type": "code",
   "execution_count": null,
   "id": "d1c06d1b-c2c5-43d5-af87-177b75604c28",
   "metadata": {},
   "outputs": [],
   "source": [
    "%%bash\n",
    "./mvnw archetype:generate \\\n",
    "  -DgroupId=<group-id> \\\n",
    "  -DartifactId=<project-name> \\\n",
    "  -DarchetypeArtifactId=maven-archetype-quickstart \\\n",
    "  -DinteractiveMode=false"
   ]
  },
  {
   "cell_type": "markdown",
   "id": "8aa9e310-b2d2-49b9-a490-6088ce885d1b",
   "metadata": {},
   "source": [
    "In youre `pom.xml` add"
   ]
  },
  {
   "cell_type": "code",
   "execution_count": null,
   "id": "b95049ba-f0ae-407d-983b-43e36cdfed89",
   "metadata": {},
   "outputs": [],
   "source": [
    "    <parent>\n",
    "        <groupId>org.springframework.boot</groupId>\n",
    "        <artifactId>spring-boot-starter-parent</artifactId>\n",
    "        <version>3.0.0</version>\n",
    "    </parent>"
   ]
  },
  {
   "cell_type": "code",
   "execution_count": null,
   "id": "844af474-8238-4af4-9c81-299a537c11d1",
   "metadata": {},
   "outputs": [],
   "source": [
    "    <properties>\n",
    "        <java.version>17</java.version>\n",
    "        <maven.compiler.version>3.8.0</maven.compiler.version>\n",
    "    </properties>"
   ]
  },
  {
   "cell_type": "code",
   "execution_count": null,
   "id": "d89b1354-5aea-4c1b-886d-daa3ed18b284",
   "metadata": {},
   "outputs": [],
   "source": [
    "    <dependencies>\n",
    "        <dependency>\n",
    "            <groupId>org.springframework.boot</groupId>\n",
    "            <artifactId>spring-boot-starter-web</artifactId>\n",
    "        </dependency>\n",
    "    </dependencies>"
   ]
  },
  {
   "cell_type": "markdown",
   "id": "f90b4bcb-41ef-4b7a-abbc-fcdb22ee90c1",
   "metadata": {},
   "source": [
    "The `spring-boot-starter-web` dependency\n",
    "- Is a Spring Boot \"starter\" dependency\n",
    "- It is used for building web applications, including RESTful services\n",
    "- It includes an embedded Tomcat web server\n",
    "- It brings in Spring MVC for web application development\n",
    "- Jackson is automatically included for JSON handling (you don not have to add Jackson manually in `pom.xml` as a dependency)\n",
    "\n",
    "A \"starter\" dependency is to bootstrap your Spring Boot application with predefined set of dependencies to Maven configuration, prevent potential versions conflicts, and provida a consistent set of pompatible libraries.\n",
    "\n",
    "Eg. `spring-boot-starter-web` bundles dependencies for web development, including an embedded server, Spring MVC, and Jackson for JSON.\n",
    "\n",
    "\"starter\" dependencies previent potential conflicts by\n",
    "1. Providing a curated and tested set of compatible library versions\n",
    "2. Managing both direct and transitive dependencies (each starter not only brings in primary libraries but also theri transitive dependencies, since Spring Boot managers the versions of these transitive dependencies, it ensures that they are compatible with each other)\n",
    "3. Offering a parent POM(`spring-boot-starter-parent`) then centralizes version managermetn\n",
    "4. Allowing developers to override versions if needed\n",
    "5. Regularly updating library versions in starters to ensure ongoing compatibility"
   ]
  },
  {
   "cell_type": "code",
   "execution_count": null,
   "id": "f18ce79d-ed11-4d48-9320-e290d6f09a15",
   "metadata": {},
   "outputs": [],
   "source": [
    "    <build>\n",
    "        <plugins>\n",
    "            <!-- Ensure the Maven Compiler Plugin is set to use Java 17 -->\n",
    "            <plugin>\n",
    "                <groupId>org.apache.maven.plugins</groupId>\n",
    "                <artifactId>maven-compiler-plugin</artifactId>\n",
    "                <version>${maven.compiler.version}</version>\n",
    "                <configuration>\n",
    "                    <source>${java.version}</source>\n",
    "                    <target>${java.version}</target>\n",
    "                </configuration>\n",
    "            </plugin>\n",
    "            \n",
    "            <plugin>\n",
    "                <groupId>org.springframework.boot</groupId>\n",
    "                <artifactId>spring-boot-maven-plugin</artifactId>\n",
    "            </plugin>\n",
    "        </plugins>\n",
    "    </build>"
   ]
  },
  {
   "cell_type": "markdown",
   "id": "cfbc0740-4689-4019-af80-cf5e6d40371a",
   "metadata": {},
   "source": [
    "The `spring-boot-maven-plugin`\n",
    "- Creates \"fat\" JARs/WARs with all dependencies for easy execution\n",
    "- Allows running the appliction with an embedded server using `./mvnw spring-boot:run`\n",
    "- Generates build information accessible at runtime\n",
    "- Helps integrate Maven profiles with Spring profiles\n",
    "\n",
    "you don't need to explicitly set the version for spring-boot-starter-web or the spring-boot-maven-plugin when you're using the spring-boot-starter-parent as the parent POM for your project. The spring-boot-starter-parent provides dependency management for these, which means it specifies default versions for these artifacts."
   ]
  },
  {
   "cell_type": "markdown",
   "id": "24a5c511-5150-4611-86ab-d2b801fb838e",
   "metadata": {},
   "source": [
    "# Create a Basic Application:\n",
    "Inside src/main/java, create a package, e.g., com.example.myapp.\n",
    "Inside the package, create a new class named Application.java.\n",
    "Add the following content:"
   ]
  },
  {
   "cell_type": "code",
   "execution_count": null,
   "id": "30ea46d0-16e2-4b32-a84b-a29256eac09f",
   "metadata": {},
   "outputs": [],
   "source": [
    "package com.example.myapp;\n",
    "\n",
    "import org.springframework.boot.SpringApplication;\n",
    "import org.springframework.boot.autoconfigure.SpringBootApplication;\n",
    "\n",
    "@SpringBootApplication\n",
    "public class <Project-Name> {\n",
    "    public static void main(String[] args) {\n",
    "        SpringApplication.run(<Project-Name>.class, args);\n",
    "    }\n",
    "}"
   ]
  },
  {
   "cell_type": "code",
   "execution_count": null,
   "id": "65193923-e3ac-4e9b-93db-67a0bd16ebc1",
   "metadata": {},
   "outputs": [],
   "source": [
    "%%bash\n",
    "./mvnw spring-boot:run"
   ]
  }
 ],
 "metadata": {
  "kernelspec": {
   "display_name": "Python 3",
   "language": "python",
   "name": "python3"
  },
  "language_info": {
   "codemirror_mode": {
    "name": "ipython",
    "version": 3
   },
   "file_extension": ".py",
   "mimetype": "text/x-python",
   "name": "python",
   "nbconvert_exporter": "python",
   "pygments_lexer": "ipython3",
   "version": "3.6.9"
  }
 },
 "nbformat": 4,
 "nbformat_minor": 5
}
